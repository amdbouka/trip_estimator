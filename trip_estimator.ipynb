{
 "cells": [
  {
   "cell_type": "code",
   "execution_count": null,
   "id": "c4867361-3a17-44b8-a799-b6ec402cd235",
   "metadata": {},
   "outputs": [],
   "source": [
    "from datetime import datetime, timedelta\n",
    "\n",
    "# Function to calculate travel time and estimated arrival datetime\n",
    "def travel_time(departure_date, departure_time, miles, mph):\n",
    "    # Convert departure date and time to datetime object\n",
    "    departure_datetime = datetime.strptime(f\"{departure_date} {departure_time}\", \"%Y-%m-%d %I:%M %p\")\n",
    "    \n",
    "    # Calculate travel time in hours\n",
    "    travel_hours = miles / mph\n",
    "    \n",
    "    # Calculate remaining minutes after converting travel time to hours\n",
    "    travel_minutes = (travel_hours - int(travel_hours)) * 60\n",
    "    \n",
    "    # Calculate arrival datetime by adding travel time to departure datetime\n",
    "    arrival_datetime = departure_datetime + timedelta(hours=int(travel_hours), minutes=int(travel_minutes))\n",
    "\n",
    "    return int(travel_hours), int(travel_minutes), arrival_datetime\n",
    "\n",
    "# Main function to interact with the user\n",
    "def main():\n",
    "    while True:\n",
    "        print(\"Arrival Time Estimator\")\n",
    "        \n",
    "        # Prompt user for input\n",
    "        departure_date = input(\"Estimated date of departure (YYYY-MM-DD): \")\n",
    "        departure_time = input(\"Estimated time of departure (HH:MM AM/PM): \")\n",
    "        miles = int(input(\"Enter miles: \"))\n",
    "        mph = int(input(\"Enter miles per hour: \"))\n",
    "\n",
    "        # Calculate travel time and estimated arrival datetime\n",
    "        travel_hours, travel_minutes, arrival_datetime = travel_time(departure_date, departure_time, miles, mph)\n",
    "\n",
    "        # Display estimated travel time and arrival datetime\n",
    "        print(\"\\nEstimated travel time\")\n",
    "        print(f\"Hours: {int(travel_hours)}\")\n",
    "        print(f\"Minutes: {int(travel_minutes)}\")\n",
    "        print(f\"Estimated date of arrival: {arrival_datetime.strftime('%Y-%m-%d')}\")\n",
    "        print(f\"Estimated time of arrival: {arrival_datetime.strftime('%I:%M %p')}\")\n",
    "\n",
    "        # Ask user if they want to continue or exit\n",
    "        choice = input(\"\\nContinue? (y/n): \")\n",
    "        if choice.lower() != 'y':\n",
    "            print(\"Bye!\")\n",
    "            break\n",
    "\n",
    "# Entry point of the program\n",
    "if __name__ == \"__main__\":\n",
    "    main()\n"
   ]
  },
  {
   "cell_type": "code",
   "execution_count": null,
   "id": "dcc892c0-9467-4aaa-9722-0d5758fd2c98",
   "metadata": {},
   "outputs": [],
   "source": []
  }
 ],
 "metadata": {
  "kernelspec": {
   "display_name": "Python 3 (ipykernel)",
   "language": "python",
   "name": "python3"
  },
  "language_info": {
   "codemirror_mode": {
    "name": "ipython",
    "version": 3
   },
   "file_extension": ".py",
   "mimetype": "text/x-python",
   "name": "python",
   "nbconvert_exporter": "python",
   "pygments_lexer": "ipython3",
   "version": "3.11.7"
  }
 },
 "nbformat": 4,
 "nbformat_minor": 5
}
